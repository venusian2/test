{
 "cells": [
  {
   "cell_type": "code",
   "execution_count": 1,
   "metadata": {},
   "outputs": [],
   "source": [
    "import pandas as pd\n",
    "import numpy as np\n",
    "import seaborn as sns\n",
    "import matplotlib.pyplot as plt\n",
    "from sklearn.metrics import confusion_matrix, classification_report\n",
    "from sklearn.model_selection import train_test_split\n",
    "from sklearn.preprocessing import StandardScaler\n",
    "from sklearn.linear_model import LogisticRegression\n",
    "from sklearn import metrics\n",
    "from sklearn.neighbors import KNeighborsClassifier\n",
    "from sklearn.tree import DecisionTreeClassifier\n",
    "from sklearn.ensemble import RandomForestClassifier\n",
    "from sklearn.model_selection import GridSearchCV\n",
    "from sklearn.ensemble import VotingClassifier"
   ]
  },
  {
   "cell_type": "code",
   "execution_count": 2,
   "metadata": {},
   "outputs": [],
   "source": [
    "df = pd.read_csv('Modeling_set.csv', index_col = 0)"
   ]
  },
  {
   "cell_type": "code",
   "execution_count": 3,
   "metadata": {
    "scrolled": true
   },
   "outputs": [
    {
     "data": {
      "text/html": [
       "<div>\n",
       "<style scoped>\n",
       "    .dataframe tbody tr th:only-of-type {\n",
       "        vertical-align: middle;\n",
       "    }\n",
       "\n",
       "    .dataframe tbody tr th {\n",
       "        vertical-align: top;\n",
       "    }\n",
       "\n",
       "    .dataframe thead th {\n",
       "        text-align: right;\n",
       "    }\n",
       "</style>\n",
       "<table border=\"1\" class=\"dataframe\">\n",
       "  <thead>\n",
       "    <tr style=\"text-align: right;\">\n",
       "      <th></th>\n",
       "      <th>ASECWT</th>\n",
       "      <th>RELATE</th>\n",
       "      <th>AGE</th>\n",
       "      <th>SEX</th>\n",
       "      <th>RACE</th>\n",
       "      <th>MARST</th>\n",
       "      <th>POPSTAT</th>\n",
       "      <th>VETSTAT</th>\n",
       "      <th>FAMREL</th>\n",
       "      <th>BPL</th>\n",
       "      <th>YRIMMIG</th>\n",
       "      <th>OCC2010</th>\n",
       "      <th>IND1990</th>\n",
       "      <th>CLASSWKR</th>\n",
       "      <th>UHRSWORK1</th>\n",
       "      <th>EDUC</th>\n",
       "      <th>EDUC99</th>\n",
       "      <th>DIFFANY</th>\n",
       "      <th>INCTOT</th>\n",
       "      <th>AGE_NEW</th>\n",
       "      <th>EDUCATION</th>\n",
       "      <th>WORK_HRS</th>\n",
       "    </tr>\n",
       "  </thead>\n",
       "  <tbody>\n",
       "    <tr>\n",
       "      <th>1</th>\n",
       "      <td>824.29</td>\n",
       "      <td>head</td>\n",
       "      <td>48</td>\n",
       "      <td>0</td>\n",
       "      <td>white</td>\n",
       "      <td>1</td>\n",
       "      <td>adult-civilian</td>\n",
       "      <td>no-service</td>\n",
       "      <td>reference-person</td>\n",
       "      <td>usa</td>\n",
       "      <td>0</td>\n",
       "      <td>OFFICE AND ADMINISTRATIVE SUPPORT</td>\n",
       "      <td>TRANSPORTATION, COMMUNICATIONS, AND OTHER PUBL...</td>\n",
       "      <td>Governemnt</td>\n",
       "      <td>39</td>\n",
       "      <td>Associate's degree, occupational/vocational pr...</td>\n",
       "      <td>13</td>\n",
       "      <td>1</td>\n",
       "      <td>0</td>\n",
       "      <td>2</td>\n",
       "      <td>1</td>\n",
       "      <td>1</td>\n",
       "    </tr>\n",
       "    <tr>\n",
       "      <th>2</th>\n",
       "      <td>824.29</td>\n",
       "      <td>spouse</td>\n",
       "      <td>55</td>\n",
       "      <td>1</td>\n",
       "      <td>white</td>\n",
       "      <td>1</td>\n",
       "      <td>adult-civilian</td>\n",
       "      <td>no-service</td>\n",
       "      <td>spouse</td>\n",
       "      <td>usa</td>\n",
       "      <td>0</td>\n",
       "      <td>MANAGEMENT, BUSINESS, SCIENCE, AND ARTS</td>\n",
       "      <td>PROFESSIONAL AND RELATED SERVICES</td>\n",
       "      <td>Private</td>\n",
       "      <td>40</td>\n",
       "      <td>Master's degree</td>\n",
       "      <td>16</td>\n",
       "      <td>1</td>\n",
       "      <td>1</td>\n",
       "      <td>2</td>\n",
       "      <td>2</td>\n",
       "      <td>1</td>\n",
       "    </tr>\n",
       "    <tr>\n",
       "      <th>6</th>\n",
       "      <td>853.00</td>\n",
       "      <td>head</td>\n",
       "      <td>52</td>\n",
       "      <td>0</td>\n",
       "      <td>white</td>\n",
       "      <td>1</td>\n",
       "      <td>adult-civilian</td>\n",
       "      <td>no-service</td>\n",
       "      <td>reference-person</td>\n",
       "      <td>north-america</td>\n",
       "      <td>1</td>\n",
       "      <td>MANAGEMENT, BUSINESS, SCIENCE, AND ARTS</td>\n",
       "      <td>AGRICULTURE, FORESTRY, AND FISHERIES</td>\n",
       "      <td>Self-Employed</td>\n",
       "      <td>39</td>\n",
       "      <td>Grades 7 or 8</td>\n",
       "      <td>5</td>\n",
       "      <td>1</td>\n",
       "      <td>1</td>\n",
       "      <td>2</td>\n",
       "      <td>0</td>\n",
       "      <td>1</td>\n",
       "    </tr>\n",
       "    <tr>\n",
       "      <th>7</th>\n",
       "      <td>853.00</td>\n",
       "      <td>spouse</td>\n",
       "      <td>55</td>\n",
       "      <td>1</td>\n",
       "      <td>white</td>\n",
       "      <td>1</td>\n",
       "      <td>adult-civilian</td>\n",
       "      <td>no-service</td>\n",
       "      <td>spouse</td>\n",
       "      <td>usa</td>\n",
       "      <td>0</td>\n",
       "      <td>MANAGEMENT, BUSINESS, SCIENCE, AND ARTS</td>\n",
       "      <td>AGRICULTURE, FORESTRY, AND FISHERIES</td>\n",
       "      <td>Self-Employed</td>\n",
       "      <td>39</td>\n",
       "      <td>Grades 7 or 8</td>\n",
       "      <td>5</td>\n",
       "      <td>1</td>\n",
       "      <td>0</td>\n",
       "      <td>2</td>\n",
       "      <td>0</td>\n",
       "      <td>1</td>\n",
       "    </tr>\n",
       "    <tr>\n",
       "      <th>8</th>\n",
       "      <td>947.30</td>\n",
       "      <td>child</td>\n",
       "      <td>22</td>\n",
       "      <td>0</td>\n",
       "      <td>white</td>\n",
       "      <td>0</td>\n",
       "      <td>adult-civilian</td>\n",
       "      <td>no-service</td>\n",
       "      <td>child</td>\n",
       "      <td>usa</td>\n",
       "      <td>0</td>\n",
       "      <td>CONSTRUCTION</td>\n",
       "      <td>CONSTRUCTION</td>\n",
       "      <td>Private</td>\n",
       "      <td>50</td>\n",
       "      <td>Grades 7 or 8</td>\n",
       "      <td>5</td>\n",
       "      <td>1</td>\n",
       "      <td>0</td>\n",
       "      <td>0</td>\n",
       "      <td>0</td>\n",
       "      <td>1</td>\n",
       "    </tr>\n",
       "  </tbody>\n",
       "</table>\n",
       "</div>"
      ],
      "text/plain": [
       "   ASECWT  RELATE  AGE  SEX   RACE  MARST         POPSTAT     VETSTAT  \\\n",
       "1  824.29    head   48    0  white      1  adult-civilian  no-service   \n",
       "2  824.29  spouse   55    1  white      1  adult-civilian  no-service   \n",
       "6  853.00    head   52    0  white      1  adult-civilian  no-service   \n",
       "7  853.00  spouse   55    1  white      1  adult-civilian  no-service   \n",
       "8  947.30   child   22    0  white      0  adult-civilian  no-service   \n",
       "\n",
       "             FAMREL            BPL  YRIMMIG  \\\n",
       "1  reference-person            usa        0   \n",
       "2            spouse            usa        0   \n",
       "6  reference-person  north-america        1   \n",
       "7            spouse            usa        0   \n",
       "8             child            usa        0   \n",
       "\n",
       "                                   OCC2010  \\\n",
       "1        OFFICE AND ADMINISTRATIVE SUPPORT   \n",
       "2  MANAGEMENT, BUSINESS, SCIENCE, AND ARTS   \n",
       "6  MANAGEMENT, BUSINESS, SCIENCE, AND ARTS   \n",
       "7  MANAGEMENT, BUSINESS, SCIENCE, AND ARTS   \n",
       "8                             CONSTRUCTION   \n",
       "\n",
       "                                             IND1990       CLASSWKR  \\\n",
       "1  TRANSPORTATION, COMMUNICATIONS, AND OTHER PUBL...     Governemnt   \n",
       "2                  PROFESSIONAL AND RELATED SERVICES        Private   \n",
       "6               AGRICULTURE, FORESTRY, AND FISHERIES  Self-Employed   \n",
       "7               AGRICULTURE, FORESTRY, AND FISHERIES  Self-Employed   \n",
       "8                                       CONSTRUCTION        Private   \n",
       "\n",
       "   UHRSWORK1                                               EDUC  EDUC99  \\\n",
       "1         39  Associate's degree, occupational/vocational pr...      13   \n",
       "2         40                                    Master's degree      16   \n",
       "6         39                                      Grades 7 or 8       5   \n",
       "7         39                                      Grades 7 or 8       5   \n",
       "8         50                                      Grades 7 or 8       5   \n",
       "\n",
       "   DIFFANY  INCTOT  AGE_NEW  EDUCATION  WORK_HRS  \n",
       "1        1       0        2          1         1  \n",
       "2        1       1        2          2         1  \n",
       "6        1       1        2          0         1  \n",
       "7        1       0        2          0         1  \n",
       "8        1       0        0          0         1  "
      ]
     },
     "execution_count": 3,
     "metadata": {},
     "output_type": "execute_result"
    }
   ],
   "source": [
    "pd.set_option('display.max_columns', 999)\n",
    "df.head()"
   ]
  },
  {
   "cell_type": "code",
   "execution_count": 4,
   "metadata": {},
   "outputs": [
    {
     "data": {
      "text/plain": [
       "13"
      ]
     },
     "execution_count": 4,
     "metadata": {},
     "output_type": "execute_result"
    }
   ],
   "source": [
    "df['IND1990'].nunique()"
   ]
  },
  {
   "cell_type": "code",
   "execution_count": 5,
   "metadata": {},
   "outputs": [],
   "source": [
    "#df = pd.get_dummies(df, columns = ['RELATE', 'RACE', 'MARST', 'POPSTAT', 'VETSTAT',\n",
    "                                   #'BPL', 'IND1990', 'OCC2010', 'CLASSWKR', 'EDUCATION',\n",
    "                                   #'DIFFANY', 'AGE_NEW', 'WORK_HRS'],drop_first=True)"
   ]
  },
  {
   "cell_type": "code",
   "execution_count": 6,
   "metadata": {},
   "outputs": [],
   "source": [
    "#### TEST ####\n",
    "df = pd.get_dummies(df, columns = ['RELATE', 'RACE', 'POPSTAT', 'VETSTAT',\n",
    "                                   'BPL', 'IND1990', 'OCC2010', 'CLASSWKR', 'EDUCATION',\n",
    "                                   'DIFFANY', 'FAMREL'],drop_first=True)"
   ]
  },
  {
   "cell_type": "code",
   "execution_count": 7,
   "metadata": {},
   "outputs": [
    {
     "data": {
      "text/plain": [
       "(65739, 83)"
      ]
     },
     "execution_count": 7,
     "metadata": {},
     "output_type": "execute_result"
    }
   ],
   "source": [
    "df.shape"
   ]
  },
  {
   "cell_type": "markdown",
   "metadata": {},
   "source": [
    "# Create correlation matrix\n",
    "corr_matrix = X_train.corr().abs()\n",
    "\n",
    "# Select upper triangle of correlation matrix\n",
    "upper = corr_matrix.where(np.triu(np.ones(corr_matrix.shape), k=1).astype(np.bool))\n",
    "upper"
   ]
  },
  {
   "cell_type": "markdown",
   "metadata": {},
   "source": [
    "sns.set(style=\"white\")\n",
    "\n",
    "\n",
    "# Compute the correlation matrix\n",
    "corr = X_train.corr()\n",
    "\n",
    "# Generate a mask for the upper triangle\n",
    "mask = np.zeros_like(corr, dtype=np.bool)\n",
    "mask[np.triu_indices_from(mask)] = True\n",
    "\n",
    "# Set up the matplotlib figure\n",
    "f, ax = plt.subplots(figsize=(11, 9))\n",
    "\n",
    "# Generate a custom diverging colormap\n",
    "cmap = sns.diverging_palette(220, 10, as_cmap=True)\n",
    "\n",
    "# Draw the heatmap with the mask and correct aspect ratio\n",
    "sns.heatmap(corr, mask=mask, cmap=cmap, vmax=1, center=0,\n",
    "            square=True, linewidths=.5, cbar_kws={\"shrink\": .5})"
   ]
  },
  {
   "cell_type": "markdown",
   "metadata": {},
   "source": [
    "# Find index of feature columns with correlation greater than 0.90\n",
    "to_drop = [column for column in upper.columns if any(upper[column] > 0.75)]\n",
    "\n",
    "#if you change inplace to True it will go through and drop all of those columns from the dataset\n",
    "#X_train.drop(columns=to_drop, inplace=True)\n",
    "#X_test.drop(columns=to_drop, inplace=True)\n",
    "\n",
    "\n",
    "\n",
    "to_drop"
   ]
  },
  {
   "cell_type": "markdown",
   "metadata": {},
   "source": [
    "# Modeling"
   ]
  },
  {
   "cell_type": "code",
   "execution_count": 8,
   "metadata": {},
   "outputs": [],
   "source": [
    "predictors = df.drop(columns = ['INCTOT', 'AGE_NEW', 'EDUC99', 'WORK_HRS', 'EDUC'])\n",
    "target = df['INCTOT']"
   ]
  },
  {
   "cell_type": "code",
   "execution_count": 9,
   "metadata": {},
   "outputs": [
    {
     "data": {
      "text/html": [
       "<div>\n",
       "<style scoped>\n",
       "    .dataframe tbody tr th:only-of-type {\n",
       "        vertical-align: middle;\n",
       "    }\n",
       "\n",
       "    .dataframe tbody tr th {\n",
       "        vertical-align: top;\n",
       "    }\n",
       "\n",
       "    .dataframe thead th {\n",
       "        text-align: right;\n",
       "    }\n",
       "</style>\n",
       "<table border=\"1\" class=\"dataframe\">\n",
       "  <thead>\n",
       "    <tr style=\"text-align: right;\">\n",
       "      <th></th>\n",
       "      <th>ASECWT</th>\n",
       "      <th>AGE</th>\n",
       "      <th>SEX</th>\n",
       "      <th>MARST</th>\n",
       "      <th>YRIMMIG</th>\n",
       "      <th>UHRSWORK1</th>\n",
       "      <th>RELATE_grandchild</th>\n",
       "      <th>RELATE_head</th>\n",
       "      <th>RELATE_other nonrelative</th>\n",
       "      <th>RELATE_other relative</th>\n",
       "      <th>RELATE_parent</th>\n",
       "      <th>RELATE_roommate</th>\n",
       "      <th>RELATE_sibling</th>\n",
       "      <th>RELATE_spouse</th>\n",
       "      <th>RELATE_unmarried partner</th>\n",
       "      <th>RACE_asian</th>\n",
       "      <th>RACE_eskimo</th>\n",
       "      <th>RACE_hawaiian</th>\n",
       "      <th>RACE_mixed</th>\n",
       "      <th>RACE_white</th>\n",
       "      <th>VETSTAT_yes</th>\n",
       "      <th>BPL_asia</th>\n",
       "      <th>BPL_australia-new-zealand</th>\n",
       "      <th>BPL_europe</th>\n",
       "      <th>BPL_north-america</th>\n",
       "      <th>BPL_south-america</th>\n",
       "      <th>BPL_usa</th>\n",
       "      <th>IND1990_BUSINESS AND REPAIR SERVICES</th>\n",
       "      <th>IND1990_CONSTRUCTION</th>\n",
       "      <th>IND1990_ENTERTAINMENT AND RECREATION SERVICES</th>\n",
       "      <th>IND1990_FINANCE, INSURANCE, AND REAL ESTATE</th>\n",
       "      <th>IND1990_MANUFACTURING</th>\n",
       "      <th>IND1990_MINING</th>\n",
       "      <th>IND1990_PERSONAL SERVICES</th>\n",
       "      <th>IND1990_PROFESSIONAL AND RELATED SERVICES</th>\n",
       "      <th>IND1990_PUBLIC ADMINISTRATION</th>\n",
       "      <th>IND1990_RETAIL TRADE</th>\n",
       "      <th>IND1990_TRANSPORTATION, COMMUNICATIONS, AND OTHER PUBLIC UTILITIES</th>\n",
       "      <th>IND1990_WHOLESALE TRADE</th>\n",
       "      <th>OCC2010_ARTS, DESIGN, ENTERTAINMENT, SPORTS, AND MEDIA</th>\n",
       "      <th>OCC2010_BUILDING AND GROUNDS CLEANING AND MAINTENANCE</th>\n",
       "      <th>OCC2010_BUSINESS OPERATIONS SPECIALISTS</th>\n",
       "      <th>OCC2010_COMMUNITY AND SOCIAL SERVICES2000</th>\n",
       "      <th>OCC2010_COMMUNITY AND SOCIAL SERVICES2010</th>\n",
       "      <th>OCC2010_COMMUNITY AND SOCIAL SERVICES2020</th>\n",
       "      <th>OCC2010_COMMUNITY AND SOCIAL SERVICES2040</th>\n",
       "      <th>OCC2010_COMMUNITY AND SOCIAL SERVICES2050</th>\n",
       "      <th>OCC2010_COMPUTER AND MATHEMATICAL</th>\n",
       "      <th>OCC2010_CONSTRUCTION</th>\n",
       "      <th>OCC2010_EDUCATION, TRAINING, AND LIBRARY</th>\n",
       "      <th>OCC2010_EXTRACTION</th>\n",
       "      <th>OCC2010_FARMING, FISHING, AND FORESTRY</th>\n",
       "      <th>OCC2010_FINANCIAL SPECIALISTS</th>\n",
       "      <th>OCC2010_FOOD PREPARATION AND SERVING</th>\n",
       "      <th>OCC2010_HEALTHCARE PRACTITIONERS AND TECHNICAL</th>\n",
       "      <th>OCC2010_HEALTHCARE SUPPORT</th>\n",
       "      <th>OCC2010_INSTALLATION, MAINTENANCE, AND REPAIR</th>\n",
       "      <th>OCC2010_LEGAL</th>\n",
       "      <th>OCC2010_LIFE, PHYSICAL, AND SOCIAL SCIENCE</th>\n",
       "      <th>OCC2010_MANAGEMENT, BUSINESS, SCIENCE, AND ARTS</th>\n",
       "      <th>OCC2010_OFFICE AND ADMINISTRATIVE SUPPORT</th>\n",
       "      <th>OCC2010_PERSONAL CARE AND SERVICE</th>\n",
       "      <th>OCC2010_PRODUCTION</th>\n",
       "      <th>OCC2010_PROTECTIVE SERVICE</th>\n",
       "      <th>OCC2010_SALES AND RELATED</th>\n",
       "      <th>OCC2010_TECHNICIANS</th>\n",
       "      <th>OCC2010_TRANSPORTATION AND MATERIAL MOVING</th>\n",
       "      <th>CLASSWKR_Private</th>\n",
       "      <th>CLASSWKR_Self-Employed</th>\n",
       "      <th>CLASSWKR_Unpaid family worker</th>\n",
       "      <th>EDUCATION_1</th>\n",
       "      <th>EDUCATION_2</th>\n",
       "      <th>EDUCATION_3</th>\n",
       "      <th>DIFFANY_2</th>\n",
       "      <th>FAMREL_not-family-member</th>\n",
       "      <th>FAMREL_other-relative</th>\n",
       "      <th>FAMREL_reference-person</th>\n",
       "      <th>FAMREL_spouse</th>\n",
       "    </tr>\n",
       "  </thead>\n",
       "  <tbody>\n",
       "    <tr>\n",
       "      <th>1</th>\n",
       "      <td>824.29</td>\n",
       "      <td>48</td>\n",
       "      <td>0</td>\n",
       "      <td>1</td>\n",
       "      <td>0</td>\n",
       "      <td>39</td>\n",
       "      <td>0</td>\n",
       "      <td>1</td>\n",
       "      <td>0</td>\n",
       "      <td>0</td>\n",
       "      <td>0</td>\n",
       "      <td>0</td>\n",
       "      <td>0</td>\n",
       "      <td>0</td>\n",
       "      <td>0</td>\n",
       "      <td>0</td>\n",
       "      <td>0</td>\n",
       "      <td>0</td>\n",
       "      <td>0</td>\n",
       "      <td>1</td>\n",
       "      <td>0</td>\n",
       "      <td>0</td>\n",
       "      <td>0</td>\n",
       "      <td>0</td>\n",
       "      <td>0</td>\n",
       "      <td>0</td>\n",
       "      <td>1</td>\n",
       "      <td>0</td>\n",
       "      <td>0</td>\n",
       "      <td>0</td>\n",
       "      <td>0</td>\n",
       "      <td>0</td>\n",
       "      <td>0</td>\n",
       "      <td>0</td>\n",
       "      <td>0</td>\n",
       "      <td>0</td>\n",
       "      <td>0</td>\n",
       "      <td>1</td>\n",
       "      <td>0</td>\n",
       "      <td>0</td>\n",
       "      <td>0</td>\n",
       "      <td>0</td>\n",
       "      <td>0</td>\n",
       "      <td>0</td>\n",
       "      <td>0</td>\n",
       "      <td>0</td>\n",
       "      <td>0</td>\n",
       "      <td>0</td>\n",
       "      <td>0</td>\n",
       "      <td>0</td>\n",
       "      <td>0</td>\n",
       "      <td>0</td>\n",
       "      <td>0</td>\n",
       "      <td>0</td>\n",
       "      <td>0</td>\n",
       "      <td>0</td>\n",
       "      <td>0</td>\n",
       "      <td>0</td>\n",
       "      <td>0</td>\n",
       "      <td>0</td>\n",
       "      <td>1</td>\n",
       "      <td>0</td>\n",
       "      <td>0</td>\n",
       "      <td>0</td>\n",
       "      <td>0</td>\n",
       "      <td>0</td>\n",
       "      <td>0</td>\n",
       "      <td>0</td>\n",
       "      <td>0</td>\n",
       "      <td>0</td>\n",
       "      <td>1</td>\n",
       "      <td>0</td>\n",
       "      <td>0</td>\n",
       "      <td>0</td>\n",
       "      <td>0</td>\n",
       "      <td>0</td>\n",
       "      <td>1</td>\n",
       "      <td>0</td>\n",
       "    </tr>\n",
       "    <tr>\n",
       "      <th>2</th>\n",
       "      <td>824.29</td>\n",
       "      <td>55</td>\n",
       "      <td>1</td>\n",
       "      <td>1</td>\n",
       "      <td>0</td>\n",
       "      <td>40</td>\n",
       "      <td>0</td>\n",
       "      <td>0</td>\n",
       "      <td>0</td>\n",
       "      <td>0</td>\n",
       "      <td>0</td>\n",
       "      <td>0</td>\n",
       "      <td>0</td>\n",
       "      <td>1</td>\n",
       "      <td>0</td>\n",
       "      <td>0</td>\n",
       "      <td>0</td>\n",
       "      <td>0</td>\n",
       "      <td>0</td>\n",
       "      <td>1</td>\n",
       "      <td>0</td>\n",
       "      <td>0</td>\n",
       "      <td>0</td>\n",
       "      <td>0</td>\n",
       "      <td>0</td>\n",
       "      <td>0</td>\n",
       "      <td>1</td>\n",
       "      <td>0</td>\n",
       "      <td>0</td>\n",
       "      <td>0</td>\n",
       "      <td>0</td>\n",
       "      <td>0</td>\n",
       "      <td>0</td>\n",
       "      <td>0</td>\n",
       "      <td>1</td>\n",
       "      <td>0</td>\n",
       "      <td>0</td>\n",
       "      <td>0</td>\n",
       "      <td>0</td>\n",
       "      <td>0</td>\n",
       "      <td>0</td>\n",
       "      <td>0</td>\n",
       "      <td>0</td>\n",
       "      <td>0</td>\n",
       "      <td>0</td>\n",
       "      <td>0</td>\n",
       "      <td>0</td>\n",
       "      <td>0</td>\n",
       "      <td>0</td>\n",
       "      <td>0</td>\n",
       "      <td>0</td>\n",
       "      <td>0</td>\n",
       "      <td>0</td>\n",
       "      <td>0</td>\n",
       "      <td>0</td>\n",
       "      <td>0</td>\n",
       "      <td>0</td>\n",
       "      <td>0</td>\n",
       "      <td>0</td>\n",
       "      <td>1</td>\n",
       "      <td>0</td>\n",
       "      <td>0</td>\n",
       "      <td>0</td>\n",
       "      <td>0</td>\n",
       "      <td>0</td>\n",
       "      <td>0</td>\n",
       "      <td>0</td>\n",
       "      <td>1</td>\n",
       "      <td>0</td>\n",
       "      <td>0</td>\n",
       "      <td>0</td>\n",
       "      <td>1</td>\n",
       "      <td>0</td>\n",
       "      <td>0</td>\n",
       "      <td>0</td>\n",
       "      <td>0</td>\n",
       "      <td>0</td>\n",
       "      <td>1</td>\n",
       "    </tr>\n",
       "    <tr>\n",
       "      <th>6</th>\n",
       "      <td>853.00</td>\n",
       "      <td>52</td>\n",
       "      <td>0</td>\n",
       "      <td>1</td>\n",
       "      <td>1</td>\n",
       "      <td>39</td>\n",
       "      <td>0</td>\n",
       "      <td>1</td>\n",
       "      <td>0</td>\n",
       "      <td>0</td>\n",
       "      <td>0</td>\n",
       "      <td>0</td>\n",
       "      <td>0</td>\n",
       "      <td>0</td>\n",
       "      <td>0</td>\n",
       "      <td>0</td>\n",
       "      <td>0</td>\n",
       "      <td>0</td>\n",
       "      <td>0</td>\n",
       "      <td>1</td>\n",
       "      <td>0</td>\n",
       "      <td>0</td>\n",
       "      <td>0</td>\n",
       "      <td>0</td>\n",
       "      <td>1</td>\n",
       "      <td>0</td>\n",
       "      <td>0</td>\n",
       "      <td>0</td>\n",
       "      <td>0</td>\n",
       "      <td>0</td>\n",
       "      <td>0</td>\n",
       "      <td>0</td>\n",
       "      <td>0</td>\n",
       "      <td>0</td>\n",
       "      <td>0</td>\n",
       "      <td>0</td>\n",
       "      <td>0</td>\n",
       "      <td>0</td>\n",
       "      <td>0</td>\n",
       "      <td>0</td>\n",
       "      <td>0</td>\n",
       "      <td>0</td>\n",
       "      <td>0</td>\n",
       "      <td>0</td>\n",
       "      <td>0</td>\n",
       "      <td>0</td>\n",
       "      <td>0</td>\n",
       "      <td>0</td>\n",
       "      <td>0</td>\n",
       "      <td>0</td>\n",
       "      <td>0</td>\n",
       "      <td>0</td>\n",
       "      <td>0</td>\n",
       "      <td>0</td>\n",
       "      <td>0</td>\n",
       "      <td>0</td>\n",
       "      <td>0</td>\n",
       "      <td>0</td>\n",
       "      <td>0</td>\n",
       "      <td>1</td>\n",
       "      <td>0</td>\n",
       "      <td>0</td>\n",
       "      <td>0</td>\n",
       "      <td>0</td>\n",
       "      <td>0</td>\n",
       "      <td>0</td>\n",
       "      <td>0</td>\n",
       "      <td>0</td>\n",
       "      <td>1</td>\n",
       "      <td>0</td>\n",
       "      <td>0</td>\n",
       "      <td>0</td>\n",
       "      <td>0</td>\n",
       "      <td>0</td>\n",
       "      <td>0</td>\n",
       "      <td>0</td>\n",
       "      <td>1</td>\n",
       "      <td>0</td>\n",
       "    </tr>\n",
       "    <tr>\n",
       "      <th>7</th>\n",
       "      <td>853.00</td>\n",
       "      <td>55</td>\n",
       "      <td>1</td>\n",
       "      <td>1</td>\n",
       "      <td>0</td>\n",
       "      <td>39</td>\n",
       "      <td>0</td>\n",
       "      <td>0</td>\n",
       "      <td>0</td>\n",
       "      <td>0</td>\n",
       "      <td>0</td>\n",
       "      <td>0</td>\n",
       "      <td>0</td>\n",
       "      <td>1</td>\n",
       "      <td>0</td>\n",
       "      <td>0</td>\n",
       "      <td>0</td>\n",
       "      <td>0</td>\n",
       "      <td>0</td>\n",
       "      <td>1</td>\n",
       "      <td>0</td>\n",
       "      <td>0</td>\n",
       "      <td>0</td>\n",
       "      <td>0</td>\n",
       "      <td>0</td>\n",
       "      <td>0</td>\n",
       "      <td>1</td>\n",
       "      <td>0</td>\n",
       "      <td>0</td>\n",
       "      <td>0</td>\n",
       "      <td>0</td>\n",
       "      <td>0</td>\n",
       "      <td>0</td>\n",
       "      <td>0</td>\n",
       "      <td>0</td>\n",
       "      <td>0</td>\n",
       "      <td>0</td>\n",
       "      <td>0</td>\n",
       "      <td>0</td>\n",
       "      <td>0</td>\n",
       "      <td>0</td>\n",
       "      <td>0</td>\n",
       "      <td>0</td>\n",
       "      <td>0</td>\n",
       "      <td>0</td>\n",
       "      <td>0</td>\n",
       "      <td>0</td>\n",
       "      <td>0</td>\n",
       "      <td>0</td>\n",
       "      <td>0</td>\n",
       "      <td>0</td>\n",
       "      <td>0</td>\n",
       "      <td>0</td>\n",
       "      <td>0</td>\n",
       "      <td>0</td>\n",
       "      <td>0</td>\n",
       "      <td>0</td>\n",
       "      <td>0</td>\n",
       "      <td>0</td>\n",
       "      <td>1</td>\n",
       "      <td>0</td>\n",
       "      <td>0</td>\n",
       "      <td>0</td>\n",
       "      <td>0</td>\n",
       "      <td>0</td>\n",
       "      <td>0</td>\n",
       "      <td>0</td>\n",
       "      <td>0</td>\n",
       "      <td>1</td>\n",
       "      <td>0</td>\n",
       "      <td>0</td>\n",
       "      <td>0</td>\n",
       "      <td>0</td>\n",
       "      <td>0</td>\n",
       "      <td>0</td>\n",
       "      <td>0</td>\n",
       "      <td>0</td>\n",
       "      <td>1</td>\n",
       "    </tr>\n",
       "    <tr>\n",
       "      <th>8</th>\n",
       "      <td>947.30</td>\n",
       "      <td>22</td>\n",
       "      <td>0</td>\n",
       "      <td>0</td>\n",
       "      <td>0</td>\n",
       "      <td>50</td>\n",
       "      <td>0</td>\n",
       "      <td>0</td>\n",
       "      <td>0</td>\n",
       "      <td>0</td>\n",
       "      <td>0</td>\n",
       "      <td>0</td>\n",
       "      <td>0</td>\n",
       "      <td>0</td>\n",
       "      <td>0</td>\n",
       "      <td>0</td>\n",
       "      <td>0</td>\n",
       "      <td>0</td>\n",
       "      <td>0</td>\n",
       "      <td>1</td>\n",
       "      <td>0</td>\n",
       "      <td>0</td>\n",
       "      <td>0</td>\n",
       "      <td>0</td>\n",
       "      <td>0</td>\n",
       "      <td>0</td>\n",
       "      <td>1</td>\n",
       "      <td>0</td>\n",
       "      <td>1</td>\n",
       "      <td>0</td>\n",
       "      <td>0</td>\n",
       "      <td>0</td>\n",
       "      <td>0</td>\n",
       "      <td>0</td>\n",
       "      <td>0</td>\n",
       "      <td>0</td>\n",
       "      <td>0</td>\n",
       "      <td>0</td>\n",
       "      <td>0</td>\n",
       "      <td>0</td>\n",
       "      <td>0</td>\n",
       "      <td>0</td>\n",
       "      <td>0</td>\n",
       "      <td>0</td>\n",
       "      <td>0</td>\n",
       "      <td>0</td>\n",
       "      <td>0</td>\n",
       "      <td>0</td>\n",
       "      <td>1</td>\n",
       "      <td>0</td>\n",
       "      <td>0</td>\n",
       "      <td>0</td>\n",
       "      <td>0</td>\n",
       "      <td>0</td>\n",
       "      <td>0</td>\n",
       "      <td>0</td>\n",
       "      <td>0</td>\n",
       "      <td>0</td>\n",
       "      <td>0</td>\n",
       "      <td>0</td>\n",
       "      <td>0</td>\n",
       "      <td>0</td>\n",
       "      <td>0</td>\n",
       "      <td>0</td>\n",
       "      <td>0</td>\n",
       "      <td>0</td>\n",
       "      <td>0</td>\n",
       "      <td>1</td>\n",
       "      <td>0</td>\n",
       "      <td>0</td>\n",
       "      <td>0</td>\n",
       "      <td>0</td>\n",
       "      <td>0</td>\n",
       "      <td>0</td>\n",
       "      <td>0</td>\n",
       "      <td>0</td>\n",
       "      <td>0</td>\n",
       "      <td>0</td>\n",
       "    </tr>\n",
       "  </tbody>\n",
       "</table>\n",
       "</div>"
      ],
      "text/plain": [
       "   ASECWT  AGE  SEX  MARST  YRIMMIG  UHRSWORK1  RELATE_grandchild  \\\n",
       "1  824.29   48    0      1        0         39                  0   \n",
       "2  824.29   55    1      1        0         40                  0   \n",
       "6  853.00   52    0      1        1         39                  0   \n",
       "7  853.00   55    1      1        0         39                  0   \n",
       "8  947.30   22    0      0        0         50                  0   \n",
       "\n",
       "   RELATE_head  RELATE_other nonrelative  RELATE_other relative  \\\n",
       "1            1                         0                      0   \n",
       "2            0                         0                      0   \n",
       "6            1                         0                      0   \n",
       "7            0                         0                      0   \n",
       "8            0                         0                      0   \n",
       "\n",
       "   RELATE_parent  RELATE_roommate  RELATE_sibling  RELATE_spouse  \\\n",
       "1              0                0               0              0   \n",
       "2              0                0               0              1   \n",
       "6              0                0               0              0   \n",
       "7              0                0               0              1   \n",
       "8              0                0               0              0   \n",
       "\n",
       "   RELATE_unmarried partner  RACE_asian  RACE_eskimo  RACE_hawaiian  \\\n",
       "1                         0           0            0              0   \n",
       "2                         0           0            0              0   \n",
       "6                         0           0            0              0   \n",
       "7                         0           0            0              0   \n",
       "8                         0           0            0              0   \n",
       "\n",
       "   RACE_mixed  RACE_white  VETSTAT_yes  BPL_asia  BPL_australia-new-zealand  \\\n",
       "1           0           1            0         0                          0   \n",
       "2           0           1            0         0                          0   \n",
       "6           0           1            0         0                          0   \n",
       "7           0           1            0         0                          0   \n",
       "8           0           1            0         0                          0   \n",
       "\n",
       "   BPL_europe  BPL_north-america  BPL_south-america  BPL_usa  \\\n",
       "1           0                  0                  0        1   \n",
       "2           0                  0                  0        1   \n",
       "6           0                  1                  0        0   \n",
       "7           0                  0                  0        1   \n",
       "8           0                  0                  0        1   \n",
       "\n",
       "   IND1990_BUSINESS AND REPAIR SERVICES  IND1990_CONSTRUCTION  \\\n",
       "1                                     0                     0   \n",
       "2                                     0                     0   \n",
       "6                                     0                     0   \n",
       "7                                     0                     0   \n",
       "8                                     0                     1   \n",
       "\n",
       "   IND1990_ENTERTAINMENT AND RECREATION SERVICES  \\\n",
       "1                                              0   \n",
       "2                                              0   \n",
       "6                                              0   \n",
       "7                                              0   \n",
       "8                                              0   \n",
       "\n",
       "   IND1990_FINANCE, INSURANCE, AND REAL ESTATE  IND1990_MANUFACTURING  \\\n",
       "1                                            0                      0   \n",
       "2                                            0                      0   \n",
       "6                                            0                      0   \n",
       "7                                            0                      0   \n",
       "8                                            0                      0   \n",
       "\n",
       "   IND1990_MINING  IND1990_PERSONAL SERVICES  \\\n",
       "1               0                          0   \n",
       "2               0                          0   \n",
       "6               0                          0   \n",
       "7               0                          0   \n",
       "8               0                          0   \n",
       "\n",
       "   IND1990_PROFESSIONAL AND RELATED SERVICES  IND1990_PUBLIC ADMINISTRATION  \\\n",
       "1                                          0                              0   \n",
       "2                                          1                              0   \n",
       "6                                          0                              0   \n",
       "7                                          0                              0   \n",
       "8                                          0                              0   \n",
       "\n",
       "   IND1990_RETAIL TRADE  \\\n",
       "1                     0   \n",
       "2                     0   \n",
       "6                     0   \n",
       "7                     0   \n",
       "8                     0   \n",
       "\n",
       "   IND1990_TRANSPORTATION, COMMUNICATIONS, AND OTHER PUBLIC UTILITIES  \\\n",
       "1                                                  1                    \n",
       "2                                                  0                    \n",
       "6                                                  0                    \n",
       "7                                                  0                    \n",
       "8                                                  0                    \n",
       "\n",
       "   IND1990_WHOLESALE TRADE  \\\n",
       "1                        0   \n",
       "2                        0   \n",
       "6                        0   \n",
       "7                        0   \n",
       "8                        0   \n",
       "\n",
       "   OCC2010_ARTS, DESIGN, ENTERTAINMENT, SPORTS, AND MEDIA  \\\n",
       "1                                                  0        \n",
       "2                                                  0        \n",
       "6                                                  0        \n",
       "7                                                  0        \n",
       "8                                                  0        \n",
       "\n",
       "   OCC2010_BUILDING AND GROUNDS CLEANING AND MAINTENANCE  \\\n",
       "1                                                  0       \n",
       "2                                                  0       \n",
       "6                                                  0       \n",
       "7                                                  0       \n",
       "8                                                  0       \n",
       "\n",
       "   OCC2010_BUSINESS OPERATIONS SPECIALISTS  \\\n",
       "1                                        0   \n",
       "2                                        0   \n",
       "6                                        0   \n",
       "7                                        0   \n",
       "8                                        0   \n",
       "\n",
       "   OCC2010_COMMUNITY AND SOCIAL SERVICES2000  \\\n",
       "1                                          0   \n",
       "2                                          0   \n",
       "6                                          0   \n",
       "7                                          0   \n",
       "8                                          0   \n",
       "\n",
       "   OCC2010_COMMUNITY AND SOCIAL SERVICES2010  \\\n",
       "1                                          0   \n",
       "2                                          0   \n",
       "6                                          0   \n",
       "7                                          0   \n",
       "8                                          0   \n",
       "\n",
       "   OCC2010_COMMUNITY AND SOCIAL SERVICES2020  \\\n",
       "1                                          0   \n",
       "2                                          0   \n",
       "6                                          0   \n",
       "7                                          0   \n",
       "8                                          0   \n",
       "\n",
       "   OCC2010_COMMUNITY AND SOCIAL SERVICES2040  \\\n",
       "1                                          0   \n",
       "2                                          0   \n",
       "6                                          0   \n",
       "7                                          0   \n",
       "8                                          0   \n",
       "\n",
       "   OCC2010_COMMUNITY AND SOCIAL SERVICES2050  \\\n",
       "1                                          0   \n",
       "2                                          0   \n",
       "6                                          0   \n",
       "7                                          0   \n",
       "8                                          0   \n",
       "\n",
       "   OCC2010_COMPUTER AND MATHEMATICAL  OCC2010_CONSTRUCTION  \\\n",
       "1                                  0                     0   \n",
       "2                                  0                     0   \n",
       "6                                  0                     0   \n",
       "7                                  0                     0   \n",
       "8                                  0                     1   \n",
       "\n",
       "   OCC2010_EDUCATION, TRAINING, AND LIBRARY  OCC2010_EXTRACTION  \\\n",
       "1                                         0                   0   \n",
       "2                                         0                   0   \n",
       "6                                         0                   0   \n",
       "7                                         0                   0   \n",
       "8                                         0                   0   \n",
       "\n",
       "   OCC2010_FARMING, FISHING, AND FORESTRY  OCC2010_FINANCIAL SPECIALISTS  \\\n",
       "1                                       0                              0   \n",
       "2                                       0                              0   \n",
       "6                                       0                              0   \n",
       "7                                       0                              0   \n",
       "8                                       0                              0   \n",
       "\n",
       "   OCC2010_FOOD PREPARATION AND SERVING  \\\n",
       "1                                     0   \n",
       "2                                     0   \n",
       "6                                     0   \n",
       "7                                     0   \n",
       "8                                     0   \n",
       "\n",
       "   OCC2010_HEALTHCARE PRACTITIONERS AND TECHNICAL  OCC2010_HEALTHCARE SUPPORT  \\\n",
       "1                                               0                           0   \n",
       "2                                               0                           0   \n",
       "6                                               0                           0   \n",
       "7                                               0                           0   \n",
       "8                                               0                           0   \n",
       "\n",
       "   OCC2010_INSTALLATION, MAINTENANCE, AND REPAIR  OCC2010_LEGAL  \\\n",
       "1                                              0              0   \n",
       "2                                              0              0   \n",
       "6                                              0              0   \n",
       "7                                              0              0   \n",
       "8                                              0              0   \n",
       "\n",
       "   OCC2010_LIFE, PHYSICAL, AND SOCIAL SCIENCE  \\\n",
       "1                                           0   \n",
       "2                                           0   \n",
       "6                                           0   \n",
       "7                                           0   \n",
       "8                                           0   \n",
       "\n",
       "   OCC2010_MANAGEMENT, BUSINESS, SCIENCE, AND ARTS  \\\n",
       "1                                                0   \n",
       "2                                                1   \n",
       "6                                                1   \n",
       "7                                                1   \n",
       "8                                                0   \n",
       "\n",
       "   OCC2010_OFFICE AND ADMINISTRATIVE SUPPORT  \\\n",
       "1                                          1   \n",
       "2                                          0   \n",
       "6                                          0   \n",
       "7                                          0   \n",
       "8                                          0   \n",
       "\n",
       "   OCC2010_PERSONAL CARE AND SERVICE  OCC2010_PRODUCTION  \\\n",
       "1                                  0                   0   \n",
       "2                                  0                   0   \n",
       "6                                  0                   0   \n",
       "7                                  0                   0   \n",
       "8                                  0                   0   \n",
       "\n",
       "   OCC2010_PROTECTIVE SERVICE  OCC2010_SALES AND RELATED  OCC2010_TECHNICIANS  \\\n",
       "1                           0                          0                    0   \n",
       "2                           0                          0                    0   \n",
       "6                           0                          0                    0   \n",
       "7                           0                          0                    0   \n",
       "8                           0                          0                    0   \n",
       "\n",
       "   OCC2010_TRANSPORTATION AND MATERIAL MOVING  CLASSWKR_Private  \\\n",
       "1                                           0                 0   \n",
       "2                                           0                 1   \n",
       "6                                           0                 0   \n",
       "7                                           0                 0   \n",
       "8                                           0                 1   \n",
       "\n",
       "   CLASSWKR_Self-Employed  CLASSWKR_Unpaid family worker  EDUCATION_1  \\\n",
       "1                       0                              0            1   \n",
       "2                       0                              0            0   \n",
       "6                       1                              0            0   \n",
       "7                       1                              0            0   \n",
       "8                       0                              0            0   \n",
       "\n",
       "   EDUCATION_2  EDUCATION_3  DIFFANY_2  FAMREL_not-family-member  \\\n",
       "1            0            0          0                         0   \n",
       "2            1            0          0                         0   \n",
       "6            0            0          0                         0   \n",
       "7            0            0          0                         0   \n",
       "8            0            0          0                         0   \n",
       "\n",
       "   FAMREL_other-relative  FAMREL_reference-person  FAMREL_spouse  \n",
       "1                      0                        1              0  \n",
       "2                      0                        0              1  \n",
       "6                      0                        1              0  \n",
       "7                      0                        0              1  \n",
       "8                      0                        0              0  "
      ]
     },
     "execution_count": 9,
     "metadata": {},
     "output_type": "execute_result"
    }
   ],
   "source": [
    "predictors.head()"
   ]
  },
  {
   "cell_type": "code",
   "execution_count": 10,
   "metadata": {},
   "outputs": [],
   "source": [
    "#TRAIN/TEST SPLIT\n",
    "X_train, X_test, y_train, y_test = train_test_split(predictors, target, random_state=333)"
   ]
  },
  {
   "cell_type": "code",
   "execution_count": 11,
   "metadata": {},
   "outputs": [],
   "source": [
    "#SCALE DATA\n",
    "scaler = StandardScaler()  \n",
    "\n",
    "scaled = scaler.fit(X_train)\n",
    "\n",
    "X_train = scaled.transform(X_train)  \n",
    "X_test = scaled.transform(X_test) "
   ]
  },
  {
   "cell_type": "markdown",
   "metadata": {},
   "source": [
    "## Baseline Predictions"
   ]
  },
  {
   "cell_type": "code",
   "execution_count": 12,
   "metadata": {},
   "outputs": [
    {
     "data": {
      "text/plain": [
       "0.7005734799738359"
      ]
     },
     "execution_count": 12,
     "metadata": {},
     "output_type": "execute_result"
    }
   ],
   "source": [
    "#GET BASE ACCURACY\n",
    "base = max(df['INCTOT'].mean(), (1-df['INCTOT'].mean()))\n",
    "base"
   ]
  },
  {
   "cell_type": "markdown",
   "metadata": {},
   "source": [
    "#### Logistic Regression"
   ]
  },
  {
   "cell_type": "code",
   "execution_count": 13,
   "metadata": {},
   "outputs": [
    {
     "name": "stdout",
     "output_type": "stream",
     "text": [
      "Test Accuracy score:  0.7610587161545482\n",
      "Test F1 score:  0.6639281129653402\n"
     ]
    }
   ],
   "source": [
    "logreg = LogisticRegression(solver='liblinear', class_weight='balanced', random_state = 333)\n",
    "\n",
    "logreg.fit(X_train, y_train)\n",
    "\n",
    "y_pred_log = logreg.predict(X_test)\n",
    "\n",
    "\n",
    "# checking accuracy\n",
    "print('Test Accuracy score: ', metrics.accuracy_score(y_test, y_pred_log))\n",
    "\n",
    "\n",
    "# checking F1\n",
    "print('Test F1 score: ', metrics.f1_score(y_test, y_pred_log))"
   ]
  },
  {
   "cell_type": "markdown",
   "metadata": {},
   "source": [
    "#### KNN"
   ]
  },
  {
   "cell_type": "code",
   "execution_count": 15,
   "metadata": {
    "scrolled": true
   },
   "outputs": [
    {
     "name": "stdout",
     "output_type": "stream",
     "text": [
      "Test Accuracy score:  0.7723151810161242\n",
      "Test F1 score:  0.5957216940363007\n"
     ]
    }
   ],
   "source": [
    "knn = KNeighborsClassifier()\n",
    "\n",
    "knn.fit(X_train, y_train)\n",
    "\n",
    "# make class predictions for the testing set\n",
    "y_pred_knn = knn.predict(X_test)\n",
    "\n",
    "# checking accuracy\n",
    "print('Test Accuracy score: ', metrics.accuracy_score(y_test, y_pred_knn))\n",
    "\n",
    "# checking F1\n",
    "print('Test F1 score: ', metrics.f1_score(y_test, y_pred_knn))"
   ]
  },
  {
   "cell_type": "markdown",
   "metadata": {},
   "source": [
    "#### Decision Tree"
   ]
  },
  {
   "cell_type": "code",
   "execution_count": 16,
   "metadata": {},
   "outputs": [
    {
     "name": "stdout",
     "output_type": "stream",
     "text": [
      "Test Accuracy score:  0.7279586248859142\n",
      "Test F1 score:  0.5518692993885937\n"
     ]
    }
   ],
   "source": [
    "tree = DecisionTreeClassifier(random_state = 333,class_weight = 'balanced')\n",
    "\n",
    "tree.fit(X_train, y_train)\n",
    "\n",
    "y_pred_tree = tree.predict(X_test)\n",
    "\n",
    "# checking accuracy\n",
    "print('Test Accuracy score: ', metrics.accuracy_score(y_test, y_pred_tree))\n",
    "\n",
    "# checking F1\n",
    "print('Test F1 score: ', metrics.f1_score(y_test, y_pred_tree))"
   ]
  },
  {
   "cell_type": "markdown",
   "metadata": {},
   "source": [
    "#### Random Forest"
   ]
  },
  {
   "cell_type": "code",
   "execution_count": 17,
   "metadata": {},
   "outputs": [
    {
     "name": "stdout",
     "output_type": "stream",
     "text": [
      "Test Accuracy score:  0.7905080620626711\n",
      "Test F1 score:  0.6121437422552665\n"
     ]
    }
   ],
   "source": [
    "rfc = RandomForestClassifier(random_state = 333, class_weight='balanced')\n",
    "\n",
    "rfc.fit(X_train, y_train)\n",
    "\n",
    "y_pred_forest = rfc.predict(X_test)\n",
    "\n",
    "# checking accuracy\n",
    "print('Test Accuracy score: ', metrics.accuracy_score(y_test, y_pred_forest))\n",
    "\n",
    "# checking F1\n",
    "print('Test F1 score: ', metrics.f1_score(y_test, y_pred_forest))"
   ]
  },
  {
   "cell_type": "markdown",
   "metadata": {},
   "source": [
    "### PLOT ROC CURVES/COMPUTE ROC_AUC SCORES"
   ]
  },
  {
   "cell_type": "code",
   "execution_count": 18,
   "metadata": {},
   "outputs": [],
   "source": [
    "# Import necessary modules\n",
    "from sklearn.metrics import roc_curve\n",
    "\n",
    "# Compute predicted probabilities: y_pred_prob\n",
    "y_log_prob = logreg.predict_proba(X_test)[:,1]\n",
    "y_knn_prob = knn.predict_proba(X_test)[:,1]\n",
    "y_tree_prob = tree.predict_proba(X_test)[:,1]\n",
    "y_rfc_prob = rfc.predict_proba(X_test)[:,1]\n",
    "\n",
    "# Generate ROC curve values: fpr, tpr, thresholds\n",
    "fpr_log, tpr_log, thresholds_log = roc_curve(y_test, y_log_prob)\n",
    "fpr_knn, tpr_knn, thresholds_knn = roc_curve(y_test, y_knn_prob)\n",
    "fpr_tree, tpr_tree, thresholds_tree = roc_curve(y_test, y_tree_prob)\n",
    "fpr_rfc, tpr_rfc, thresholds_rfc = roc_curve(y_test, y_rfc_prob)"
   ]
  },
  {
   "cell_type": "code",
   "execution_count": 30,
   "metadata": {},
   "outputs": [
    {
     "data": {
      "image/png": "[encoded data removed]",
      "text/plain": [
       "<Figure size 432x288 with 1 Axes>"
      ]
     },
     "metadata": {
      "needs_background": "light"
     },
     "output_type": "display_data"
    }
   ],
   "source": [
    "# Plot ROC curve\n",
    "plt.plot([0, 1], [0, 1], 'k--')\n",
    "plt.plot(fpr_log, tpr_log,label = 'Logistic')\n",
    "plt.plot(fpr_knn, tpr_knn,label = 'KNN')\n",
    "plt.plot(fpr_tree, tpr_tree,label = 'Decision Tree')\n",
    "plt.plot(fpr_rfc, tpr_rfc,label = 'Random Forest')\n",
    "plt.xlabel('False Positive Rate')\n",
    "plt.ylabel('True Positive Rate')\n",
    "plt.legend()\n",
    "plt.title('ROC Curve no GridSearch')\n",
    "plt.show()"
   ]
  },
  {
   "cell_type": "code",
   "execution_count": 20,
   "metadata": {},
   "outputs": [
    {
     "name": "stdout",
     "output_type": "stream",
     "text": [
      "AUC Logistic: 0.8493832811198692\n",
      "AUC KNN: 0.7924434226498409\n",
      "AUC Decision Tree: 0.6791033912440059\n",
      "AUC Random Forest: 0.8330266647718974\n"
     ]
    }
   ],
   "source": [
    "# Import necessary modules\n",
    "from sklearn.metrics import roc_auc_score\n",
    "from sklearn.model_selection import cross_val_score\n",
    "\n",
    "# Compute and print AUC score\n",
    "print(\"AUC Logistic: {}\".format(roc_auc_score(y_test, y_log_prob)))\n",
    "print(\"AUC KNN: {}\".format(roc_auc_score(y_test, y_knn_prob)))\n",
    "print(\"AUC Decision Tree: {}\".format(roc_auc_score(y_test, y_tree_prob)))\n",
    "print(\"AUC Random Forest: {}\".format(roc_auc_score(y_test, y_rfc_prob)))\n",
    "\n"
   ]
  },
  {
   "cell_type": "markdown",
   "metadata": {},
   "source": [
    "#### XGBOOST"
   ]
  },
  {
   "cell_type": "code",
   "execution_count": 21,
   "metadata": {},
   "outputs": [
    {
     "name": "stdout",
     "output_type": "stream",
     "text": [
      "Test Accuracy score:  0.7780346820809249\n",
      "Test F1 score:  0.5333844973138909\n"
     ]
    }
   ],
   "source": [
    "# Import xgboost\n",
    "import xgboost as xgb\n",
    "\n",
    "# Instantiate the XGBClassifier: xg_cl\n",
    "xg_cl = xgb.XGBClassifier(objective='binary:logistic', n_estimators=10, seed=123)\n",
    "\n",
    "# Fit the classifier to the training set\n",
    "xg_cl.fit(X_train,y_train)\n",
    "\n",
    "# Predict the labels of the test set: preds\n",
    "y_pred_xgb = xg_cl.predict(X_test)\n",
    "\n",
    "# Compute the accuracy: accuracy\n",
    "# checking accuracy\n",
    "print('Test Accuracy score: ', metrics.accuracy_score(y_test, y_pred_xgb))\n",
    "\n",
    "# checking F1\n",
    "print('Test F1 score: ', metrics.f1_score(y_test, y_pred_xgb))"
   ]
  },
  {
   "cell_type": "code",
   "execution_count": 22,
   "metadata": {},
   "outputs": [],
   "source": [
    "y_xgb_prob = xg_cl.predict_proba(X_test)[:,1]"
   ]
  },
  {
   "cell_type": "code",
   "execution_count": 23,
   "metadata": {},
   "outputs": [],
   "source": [
    "fpr_xgb, tpr_xgb, thresholds_xgb = roc_curve(y_test, y_xgb_prob)"
   ]
  },
  {
   "cell_type": "code",
   "execution_count": 24,
   "metadata": {},
   "outputs": [
    {
     "name": "stdout",
     "output_type": "stream",
     "text": [
      "AUC Random Forest: 0.817072833481346\n"
     ]
    }
   ],
   "source": [
    "print(\"AUC Random Forest: {}\".format(roc_auc_score(y_test, y_xgb_prob)))"
   ]
  },
  {
   "cell_type": "code",
   "execution_count": 25,
   "metadata": {},
   "outputs": [],
   "source": [
    "param_grid_xgb = {\n",
    "    \"learning_rate\": [.1,.2],\n",
    "    'max_depth': [3,6],\n",
    "    'min_child_weight': [1,2],\n",
    "    'subsample': [.5,1],\n",
    "    'n_estimators': [20,30],\n",
    "}\n",
    "\n",
    "grid_search_xgb = GridSearchCV(estimator = xg_cl, param_grid = param_grid_xgb,cv = 7,scoring = 'f1', n_jobs = 4)"
   ]
  },
  {
   "cell_type": "code",
   "execution_count": 26,
   "metadata": {
    "scrolled": true
   },
   "outputs": [
    {
     "ename": "KeyboardInterrupt",
     "evalue": "",
     "output_type": "error",
     "traceback": [
      "\u001b[0;31m---------------------------------------------------------------------------\u001b[0m",
      "\u001b[0;31mKeyboardInterrupt\u001b[0m                         Traceback (most recent call last)",
      "\u001b[0;32m<ipython-input-26-f7162af4504b>\u001b[0m in \u001b[0;36m<module>\u001b[0;34m\u001b[0m\n\u001b[0;32m----> 1\u001b[0;31m \u001b[0mgrid_search_xgb\u001b[0m\u001b[0;34m.\u001b[0m\u001b[0mfit\u001b[0m\u001b[0;34m(\u001b[0m\u001b[0mX_train\u001b[0m\u001b[0;34m,\u001b[0m\u001b[0my_train\u001b[0m\u001b[0;34m)\u001b[0m\u001b[0;34m\u001b[0m\u001b[0;34m\u001b[0m\u001b[0m\n\u001b[0m\u001b[1;32m      2\u001b[0m \u001b[0mxgb_params\u001b[0m \u001b[0;34m=\u001b[0m \u001b[0mgrid_search_xgb\u001b[0m\u001b[0;34m.\u001b[0m\u001b[0mbest_params_\u001b[0m\u001b[0;34m\u001b[0m\u001b[0;34m\u001b[0m\u001b[0m\n\u001b[1;32m      3\u001b[0m \u001b[0mprint\u001b[0m\u001b[0;34m(\u001b[0m\u001b[0mxgb_params\u001b[0m\u001b[0;34m)\u001b[0m\u001b[0;34m\u001b[0m\u001b[0;34m\u001b[0m\u001b[0m\n",
      "\u001b[0;32m/opt/anaconda3/lib/python3.7/site-packages/sklearn/utils/validation.py\u001b[0m in \u001b[0;36minner_f\u001b[0;34m(*args, **kwargs)\u001b[0m\n\u001b[1;32m     71\u001b[0m                           FutureWarning)\n\u001b[1;32m     72\u001b[0m         \u001b[0mkwargs\u001b[0m\u001b[0;34m.\u001b[0m\u001b[0mupdate\u001b[0m\u001b[0;34m(\u001b[0m\u001b[0;34m{\u001b[0m\u001b[0mk\u001b[0m\u001b[0;34m:\u001b[0m \u001b[0marg\u001b[0m \u001b[0;32mfor\u001b[0m \u001b[0mk\u001b[0m\u001b[0;34m,\u001b[0m \u001b[0marg\u001b[0m \u001b[0;32min\u001b[0m \u001b[0mzip\u001b[0m\u001b[0;34m(\u001b[0m\u001b[0msig\u001b[0m\u001b[0;34m.\u001b[0m\u001b[0mparameters\u001b[0m\u001b[0;34m,\u001b[0m \u001b[0margs\u001b[0m\u001b[0;34m)\u001b[0m\u001b[0;34m}\u001b[0m\u001b[0;34m)\u001b[0m\u001b[0;34m\u001b[0m\u001b[0;34m\u001b[0m\u001b[0m\n\u001b[0;32m---> 73\u001b[0;31m         \u001b[0;32mreturn\u001b[0m \u001b[0mf\u001b[0m\u001b[0;34m(\u001b[0m\u001b[0;34m**\u001b[0m\u001b[0mkwargs\u001b[0m\u001b[0;34m)\u001b[0m\u001b[0;34m\u001b[0m\u001b[0;34m\u001b[0m\u001b[0m\n\u001b[0m\u001b[1;32m     74\u001b[0m     \u001b[0;32mreturn\u001b[0m \u001b[0minner_f\u001b[0m\u001b[0;34m\u001b[0m\u001b[0;34m\u001b[0m\u001b[0m\n\u001b[1;32m     75\u001b[0m \u001b[0;34m\u001b[0m\u001b[0m\n",
      "\u001b[0;32m/opt/anaconda3/lib/python3.7/site-packages/sklearn/model_selection/_search.py\u001b[0m in \u001b[0;36mfit\u001b[0;34m(self, X, y, groups, **fit_params)\u001b[0m\n\u001b[1;32m    734\u001b[0m                 \u001b[0;32mreturn\u001b[0m \u001b[0mresults\u001b[0m\u001b[0;34m\u001b[0m\u001b[0;34m\u001b[0m\u001b[0m\n\u001b[1;32m    735\u001b[0m \u001b[0;34m\u001b[0m\u001b[0m\n\u001b[0;32m--> 736\u001b[0;31m             \u001b[0mself\u001b[0m\u001b[0;34m.\u001b[0m\u001b[0m_run_search\u001b[0m\u001b[0;34m(\u001b[0m\u001b[0mevaluate_candidates\u001b[0m\u001b[0;34m)\u001b[0m\u001b[0;34m\u001b[0m\u001b[0;34m\u001b[0m\u001b[0m\n\u001b[0m\u001b[1;32m    737\u001b[0m \u001b[0;34m\u001b[0m\u001b[0m\n\u001b[1;32m    738\u001b[0m         \u001b[0;31m# For multi-metric evaluation, store the best_index_, best_params_ and\u001b[0m\u001b[0;34m\u001b[0m\u001b[0;34m\u001b[0m\u001b[0;34m\u001b[0m\u001b[0m\n",
      "\u001b[0;32m/opt/anaconda3/lib/python3.7/site-packages/sklearn/model_selection/_search.py\u001b[0m in \u001b[0;36m_run_search\u001b[0;34m(self, evaluate_candidates)\u001b[0m\n\u001b[1;32m   1186\u001b[0m     \u001b[0;32mdef\u001b[0m \u001b[0m_run_search\u001b[0m\u001b[0;34m(\u001b[0m\u001b[0mself\u001b[0m\u001b[0;34m,\u001b[0m \u001b[0mevaluate_candidates\u001b[0m\u001b[0;34m)\u001b[0m\u001b[0;34m:\u001b[0m\u001b[0;34m\u001b[0m\u001b[0;34m\u001b[0m\u001b[0m\n\u001b[1;32m   1187\u001b[0m         \u001b[0;34m\"\"\"Search all candidates in param_grid\"\"\"\u001b[0m\u001b[0;34m\u001b[0m\u001b[0;34m\u001b[0m\u001b[0m\n\u001b[0;32m-> 1188\u001b[0;31m         \u001b[0mevaluate_candidates\u001b[0m\u001b[0;34m(\u001b[0m\u001b[0mParameterGrid\u001b[0m\u001b[0;34m(\u001b[0m\u001b[0mself\u001b[0m\u001b[0;34m.\u001b[0m\u001b[0mparam_grid\u001b[0m\u001b[0;34m)\u001b[0m\u001b[0;34m)\u001b[0m\u001b[0;34m\u001b[0m\u001b[0;34m\u001b[0m\u001b[0m\n\u001b[0m\u001b[1;32m   1189\u001b[0m \u001b[0;34m\u001b[0m\u001b[0m\n\u001b[1;32m   1190\u001b[0m \u001b[0;34m\u001b[0m\u001b[0m\n",
      "\u001b[0;32m/opt/anaconda3/lib/python3.7/site-packages/sklearn/model_selection/_search.py\u001b[0m in \u001b[0;36mevaluate_candidates\u001b[0;34m(candidate_params)\u001b[0m\n\u001b[1;32m    713\u001b[0m                                \u001b[0;32mfor\u001b[0m \u001b[0mparameters\u001b[0m\u001b[0;34m,\u001b[0m \u001b[0;34m(\u001b[0m\u001b[0mtrain\u001b[0m\u001b[0;34m,\u001b[0m \u001b[0mtest\u001b[0m\u001b[0;34m)\u001b[0m\u001b[0;34m\u001b[0m\u001b[0;34m\u001b[0m\u001b[0m\n\u001b[1;32m    714\u001b[0m                                in product(candidate_params,\n\u001b[0;32m--> 715\u001b[0;31m                                           cv.split(X, y, groups)))\n\u001b[0m\u001b[1;32m    716\u001b[0m \u001b[0;34m\u001b[0m\u001b[0m\n\u001b[1;32m    717\u001b[0m                 \u001b[0;32mif\u001b[0m \u001b[0mlen\u001b[0m\u001b[0;34m(\u001b[0m\u001b[0mout\u001b[0m\u001b[0;34m)\u001b[0m \u001b[0;34m<\u001b[0m \u001b[0;36m1\u001b[0m\u001b[0;34m:\u001b[0m\u001b[0;34m\u001b[0m\u001b[0;34m\u001b[0m\u001b[0m\n",
      "\u001b[0;32m/opt/anaconda3/lib/python3.7/site-packages/joblib/parallel.py\u001b[0m in \u001b[0;36m__call__\u001b[0;34m(self, iterable)\u001b[0m\n\u001b[1;32m   1015\u001b[0m \u001b[0;34m\u001b[0m\u001b[0m\n\u001b[1;32m   1016\u001b[0m             \u001b[0;32mwith\u001b[0m \u001b[0mself\u001b[0m\u001b[0;34m.\u001b[0m\u001b[0m_backend\u001b[0m\u001b[0;34m.\u001b[0m\u001b[0mretrieval_context\u001b[0m\u001b[0;34m(\u001b[0m\u001b[0;34m)\u001b[0m\u001b[0;34m:\u001b[0m\u001b[0;34m\u001b[0m\u001b[0;34m\u001b[0m\u001b[0m\n\u001b[0;32m-> 1017\u001b[0;31m                 \u001b[0mself\u001b[0m\u001b[0;34m.\u001b[0m\u001b[0mretrieve\u001b[0m\u001b[0;34m(\u001b[0m\u001b[0;34m)\u001b[0m\u001b[0;34m\u001b[0m\u001b[0;34m\u001b[0m\u001b[0m\n\u001b[0m\u001b[1;32m   1018\u001b[0m             \u001b[0;31m# Make sure that we get a last message telling us we are done\u001b[0m\u001b[0;34m\u001b[0m\u001b[0;34m\u001b[0m\u001b[0;34m\u001b[0m\u001b[0m\n\u001b[1;32m   1019\u001b[0m             \u001b[0melapsed_time\u001b[0m \u001b[0;34m=\u001b[0m \u001b[0mtime\u001b[0m\u001b[0;34m.\u001b[0m\u001b[0mtime\u001b[0m\u001b[0;34m(\u001b[0m\u001b[0;34m)\u001b[0m \u001b[0;34m-\u001b[0m \u001b[0mself\u001b[0m\u001b[0;34m.\u001b[0m\u001b[0m_start_time\u001b[0m\u001b[0;34m\u001b[0m\u001b[0;34m\u001b[0m\u001b[0m\n",
      "\u001b[0;32m/opt/anaconda3/lib/python3.7/site-packages/joblib/parallel.py\u001b[0m in \u001b[0;36mretrieve\u001b[0;34m(self)\u001b[0m\n\u001b[1;32m    907\u001b[0m             \u001b[0;32mtry\u001b[0m\u001b[0;34m:\u001b[0m\u001b[0;34m\u001b[0m\u001b[0;34m\u001b[0m\u001b[0m\n\u001b[1;32m    908\u001b[0m                 \u001b[0;32mif\u001b[0m \u001b[0mgetattr\u001b[0m\u001b[0;34m(\u001b[0m\u001b[0mself\u001b[0m\u001b[0;34m.\u001b[0m\u001b[0m_backend\u001b[0m\u001b[0;34m,\u001b[0m \u001b[0;34m'supports_timeout'\u001b[0m\u001b[0;34m,\u001b[0m \u001b[0;32mFalse\u001b[0m\u001b[0;34m)\u001b[0m\u001b[0;34m:\u001b[0m\u001b[0;34m\u001b[0m\u001b[0;34m\u001b[0m\u001b[0m\n\u001b[0;32m--> 909\u001b[0;31m                     \u001b[0mself\u001b[0m\u001b[0;34m.\u001b[0m\u001b[0m_output\u001b[0m\u001b[0;34m.\u001b[0m\u001b[0mextend\u001b[0m\u001b[0;34m(\u001b[0m\u001b[0mjob\u001b[0m\u001b[0;34m.\u001b[0m\u001b[0mget\u001b[0m\u001b[0;34m(\u001b[0m\u001b[0mtimeout\u001b[0m\u001b[0;34m=\u001b[0m\u001b[0mself\u001b[0m\u001b[0;34m.\u001b[0m\u001b[0mtimeout\u001b[0m\u001b[0;34m)\u001b[0m\u001b[0;34m)\u001b[0m\u001b[0;34m\u001b[0m\u001b[0;34m\u001b[0m\u001b[0m\n\u001b[0m\u001b[1;32m    910\u001b[0m                 \u001b[0;32melse\u001b[0m\u001b[0;34m:\u001b[0m\u001b[0;34m\u001b[0m\u001b[0;34m\u001b[0m\u001b[0m\n\u001b[1;32m    911\u001b[0m                     \u001b[0mself\u001b[0m\u001b[0;34m.\u001b[0m\u001b[0m_output\u001b[0m\u001b[0;34m.\u001b[0m\u001b[0mextend\u001b[0m\u001b[0;34m(\u001b[0m\u001b[0mjob\u001b[0m\u001b[0;34m.\u001b[0m\u001b[0mget\u001b[0m\u001b[0;34m(\u001b[0m\u001b[0;34m)\u001b[0m\u001b[0;34m)\u001b[0m\u001b[0;34m\u001b[0m\u001b[0;34m\u001b[0m\u001b[0m\n",
      "\u001b[0;32m/opt/anaconda3/lib/python3.7/site-packages/joblib/_parallel_backends.py\u001b[0m in \u001b[0;36mwrap_future_result\u001b[0;34m(future, timeout)\u001b[0m\n\u001b[1;32m    560\u001b[0m         AsyncResults.get from multiprocessing.\"\"\"\n\u001b[1;32m    561\u001b[0m         \u001b[0;32mtry\u001b[0m\u001b[0;34m:\u001b[0m\u001b[0;34m\u001b[0m\u001b[0;34m\u001b[0m\u001b[0m\n\u001b[0;32m--> 562\u001b[0;31m             \u001b[0;32mreturn\u001b[0m \u001b[0mfuture\u001b[0m\u001b[0;34m.\u001b[0m\u001b[0mresult\u001b[0m\u001b[0;34m(\u001b[0m\u001b[0mtimeout\u001b[0m\u001b[0;34m=\u001b[0m\u001b[0mtimeout\u001b[0m\u001b[0;34m)\u001b[0m\u001b[0;34m\u001b[0m\u001b[0;34m\u001b[0m\u001b[0m\n\u001b[0m\u001b[1;32m    563\u001b[0m         \u001b[0;32mexcept\u001b[0m \u001b[0mLokyTimeoutError\u001b[0m\u001b[0;34m:\u001b[0m\u001b[0;34m\u001b[0m\u001b[0;34m\u001b[0m\u001b[0m\n\u001b[1;32m    564\u001b[0m             \u001b[0;32mraise\u001b[0m \u001b[0mTimeoutError\u001b[0m\u001b[0;34m(\u001b[0m\u001b[0;34m)\u001b[0m\u001b[0;34m\u001b[0m\u001b[0;34m\u001b[0m\u001b[0m\n",
      "\u001b[0;32m/opt/anaconda3/lib/python3.7/concurrent/futures/_base.py\u001b[0m in \u001b[0;36mresult\u001b[0;34m(self, timeout)\u001b[0m\n\u001b[1;32m    428\u001b[0m                 \u001b[0;32mreturn\u001b[0m \u001b[0mself\u001b[0m\u001b[0;34m.\u001b[0m\u001b[0m__get_result\u001b[0m\u001b[0;34m(\u001b[0m\u001b[0;34m)\u001b[0m\u001b[0;34m\u001b[0m\u001b[0;34m\u001b[0m\u001b[0m\n\u001b[1;32m    429\u001b[0m \u001b[0;34m\u001b[0m\u001b[0m\n\u001b[0;32m--> 430\u001b[0;31m             \u001b[0mself\u001b[0m\u001b[0;34m.\u001b[0m\u001b[0m_condition\u001b[0m\u001b[0;34m.\u001b[0m\u001b[0mwait\u001b[0m\u001b[0;34m(\u001b[0m\u001b[0mtimeout\u001b[0m\u001b[0;34m)\u001b[0m\u001b[0;34m\u001b[0m\u001b[0;34m\u001b[0m\u001b[0m\n\u001b[0m\u001b[1;32m    431\u001b[0m \u001b[0;34m\u001b[0m\u001b[0m\n\u001b[1;32m    432\u001b[0m             \u001b[0;32mif\u001b[0m \u001b[0mself\u001b[0m\u001b[0;34m.\u001b[0m\u001b[0m_state\u001b[0m \u001b[0;32min\u001b[0m \u001b[0;34m[\u001b[0m\u001b[0mCANCELLED\u001b[0m\u001b[0;34m,\u001b[0m \u001b[0mCANCELLED_AND_NOTIFIED\u001b[0m\u001b[0;34m]\u001b[0m\u001b[0;34m:\u001b[0m\u001b[0;34m\u001b[0m\u001b[0;34m\u001b[0m\u001b[0m\n",
      "\u001b[0;32m/opt/anaconda3/lib/python3.7/threading.py\u001b[0m in \u001b[0;36mwait\u001b[0;34m(self, timeout)\u001b[0m\n\u001b[1;32m    294\u001b[0m         \u001b[0;32mtry\u001b[0m\u001b[0;34m:\u001b[0m    \u001b[0;31m# restore state no matter what (e.g., KeyboardInterrupt)\u001b[0m\u001b[0;34m\u001b[0m\u001b[0;34m\u001b[0m\u001b[0m\n\u001b[1;32m    295\u001b[0m             \u001b[0;32mif\u001b[0m \u001b[0mtimeout\u001b[0m \u001b[0;32mis\u001b[0m \u001b[0;32mNone\u001b[0m\u001b[0;34m:\u001b[0m\u001b[0;34m\u001b[0m\u001b[0;34m\u001b[0m\u001b[0m\n\u001b[0;32m--> 296\u001b[0;31m                 \u001b[0mwaiter\u001b[0m\u001b[0;34m.\u001b[0m\u001b[0macquire\u001b[0m\u001b[0;34m(\u001b[0m\u001b[0;34m)\u001b[0m\u001b[0;34m\u001b[0m\u001b[0;34m\u001b[0m\u001b[0m\n\u001b[0m\u001b[1;32m    297\u001b[0m                 \u001b[0mgotit\u001b[0m \u001b[0;34m=\u001b[0m \u001b[0;32mTrue\u001b[0m\u001b[0;34m\u001b[0m\u001b[0;34m\u001b[0m\u001b[0m\n\u001b[1;32m    298\u001b[0m             \u001b[0;32melse\u001b[0m\u001b[0;34m:\u001b[0m\u001b[0;34m\u001b[0m\u001b[0;34m\u001b[0m\u001b[0m\n",
      "\u001b[0;31mKeyboardInterrupt\u001b[0m: "
     ]
    }
   ],
   "source": [
    "grid_search_xgb.fit(X_train,y_train)\n",
    "xgb_params = grid_search_xgb.best_params_\n",
    "print(xgb_params)"
   ]
  },
  {
   "cell_type": "code",
   "execution_count": null,
   "metadata": {},
   "outputs": [],
   "source": [
    "xgb_grid = XGBClassifier(**xgb_params, random_state = 333,class_weight = 'balanced')\n",
    "xgb_grid.fit(X_train, y_train)\n",
    "y_pred_xgb_grid = xgb_grid.predict(X_test)\n",
    "\n",
    "# checking accuracy\n",
    "print('Test Accuracy score: ', metrics.accuracy_score(y_test, y_pred_xgb_grid))\n",
    "\n",
    "# checking F1\n",
    "print('Test F1 score: ', metrics.f1_score(y_test, y_pred_xgb_grid))"
   ]
  },
  {
   "cell_type": "markdown",
   "metadata": {},
   "source": [
    "## Grid Search"
   ]
  },
  {
   "cell_type": "markdown",
   "metadata": {},
   "source": [
    "### LOGISTIC GRID"
   ]
  },
  {
   "cell_type": "code",
   "execution_count": 27,
   "metadata": {},
   "outputs": [],
   "source": [
    "param_grid_log =  {'penalty' : ['l1', 'l2'],\n",
    "                   'C' : np.logspace(-4, 4, 20)}\n",
    "grid_search_log = GridSearchCV(estimator = logreg, param_grid = param_grid_log,cv = 7,scoring = 'f1', n_jobs = -1)"
   ]
  },
  {
   "cell_type": "code",
   "execution_count": 28,
   "metadata": {},
   "outputs": [
    {
     "name": "stderr",
     "output_type": "stream",
     "text": [
      "/opt/anaconda3/lib/python3.7/site-packages/joblib/externals/loky/process_executor.py:706: UserWarning: A worker stopped while some jobs were given to the executor. This can be caused by a too short worker timeout or by a memory leak.\n",
      "  \"timeout or by a memory leak.\", UserWarning\n"
     ]
    },
    {
     "name": "stdout",
     "output_type": "stream",
     "text": [
      "{'C': 0.08858667904100823, 'penalty': 'l2'}\n"
     ]
    }
   ],
   "source": [
    "grid_search_log.fit(X_train,y_train)\n",
    "log_params = grid_search_log.best_params_\n",
    "print(log_params)"
   ]
  },
  {
   "cell_type": "code",
   "execution_count": 29,
   "metadata": {},
   "outputs": [
    {
     "name": "stdout",
     "output_type": "stream",
     "text": [
      "Test Accuracy score:  0.7612412534225738\n",
      "Test F1 score:  0.6641561109209175\n"
     ]
    }
   ],
   "source": [
    "logreg_grid = LogisticRegression(**log_params,solver='liblinear', class_weight='balanced', random_state = 333)\n",
    "\n",
    "logreg_grid.fit(X_train, y_train)\n",
    "\n",
    "y_pred_log_grid = logreg_grid.predict(X_test)\n",
    "\n",
    "# checking accuracy\n",
    "print('Test Accuracy score: ', metrics.accuracy_score(y_test, y_pred_log_grid))\n",
    "\n",
    "# checking F1\n",
    "print('Test F1 score: ', metrics.f1_score(y_test, y_pred_log_grid))"
   ]
  },
  {
   "cell_type": "markdown",
   "metadata": {},
   "source": [
    "### KNN GRID"
   ]
  },
  {
   "cell_type": "code",
   "execution_count": 40,
   "metadata": {},
   "outputs": [],
   "source": [
    "param_grid_knn = {'n_neighbors' : [15,17,19],\n",
    "                 'weights':['uniform','distance'],\n",
    "                 'metric' : ['euclidean','manhattan']}\n",
    "grid_search_knn = GridSearchCV(estimator = knn, param_grid = param_grid_knn,cv = 5, scoring = 'f1',n_jobs = -1)"
   ]
  },
  {
   "cell_type": "code",
   "execution_count": 41,
   "metadata": {},
   "outputs": [
    {
     "name": "stderr",
     "output_type": "stream",
     "text": [
      "/opt/anaconda3/lib/python3.7/site-packages/joblib/externals/loky/process_executor.py:706: UserWarning: A worker stopped while some jobs were given to the executor. This can be caused by a too short worker timeout or by a memory leak.\n",
      "  \"timeout or by a memory leak.\", UserWarning\n"
     ]
    },
    {
     "name": "stdout",
     "output_type": "stream",
     "text": [
      "{'metric': 'manhattan', 'n_neighbors': 17, 'weights': 'uniform'}\n"
     ]
    }
   ],
   "source": [
    "grid_search_knn.fit(X_train,y_train)\n",
    "knn_params = grid_search_knn.best_params_\n",
    "print(knn_params)"
   ]
  },
  {
   "cell_type": "code",
   "execution_count": 42,
   "metadata": {},
   "outputs": [
    {
     "name": "stdout",
     "output_type": "stream",
     "text": [
      "Test Accuracy score:  0.7859446303620322\n",
      "Test F1 score:  0.6045413669064748\n"
     ]
    }
   ],
   "source": [
    "knn_grid = KNeighborsClassifier(**knn_params)\n",
    "knn_grid.fit(X_train,y_train)\n",
    "y_pred_knn_grid = knn_grid.predict(X_test)\n",
    "\n",
    "# checking accuracy\n",
    "print('Test Accuracy score: ', metrics.accuracy_score(y_test, y_pred_knn_grid))\n",
    "\n",
    "# checking F1\n",
    "print('Test F1 score: ', metrics.f1_score(y_test, y_pred_knn_grid))"
   ]
  },
  {
   "cell_type": "markdown",
   "metadata": {},
   "source": [
    "### DECISION TREE GRID"
   ]
  },
  {
   "cell_type": "code",
   "execution_count": 37,
   "metadata": {},
   "outputs": [],
   "source": [
    "param_grid_tree = { 'criterion' : ['gini', 'entropy'],\n",
    "                   'max_depth' : [9,12,14],\n",
    "                  'min_samples_leaf':[8,9,11], 'min_samples_split':[2,3,4,5],\n",
    "                  }\n",
    "grid_search_tree = GridSearchCV(estimator = tree, param_grid = param_grid_tree,cv = 7,scoring = 'f1', n_jobs = -1)"
   ]
  },
  {
   "cell_type": "code",
   "execution_count": 38,
   "metadata": {},
   "outputs": [
    {
     "name": "stderr",
     "output_type": "stream",
     "text": [
      "/opt/anaconda3/lib/python3.7/site-packages/joblib/externals/loky/process_executor.py:706: UserWarning: A worker stopped while some jobs were given to the executor. This can be caused by a too short worker timeout or by a memory leak.\n",
      "  \"timeout or by a memory leak.\", UserWarning\n"
     ]
    },
    {
     "name": "stdout",
     "output_type": "stream",
     "text": [
      "{'criterion': 'gini', 'max_depth': 12, 'min_samples_leaf': 11, 'min_samples_split': 2}\n"
     ]
    }
   ],
   "source": [
    "grid_search_tree.fit(X_train,y_train)\n",
    "tree_params = grid_search_tree.best_params_\n",
    "print(tree_params)"
   ]
  },
  {
   "cell_type": "code",
   "execution_count": 39,
   "metadata": {},
   "outputs": [
    {
     "name": "stdout",
     "output_type": "stream",
     "text": [
      "Test Accuracy score:  0.7339823547307576\n",
      "Test F1 score:  0.6378996190160676\n"
     ]
    }
   ],
   "source": [
    "tree_grid = DecisionTreeClassifier(**tree_params, random_state = 333,class_weight = 'balanced')\n",
    "tree_grid.fit(X_train, y_train)\n",
    "y_pred_tree_grid = tree_grid.predict(X_test)\n",
    "\n",
    "# checking accuracy\n",
    "print('Test Accuracy score: ', metrics.accuracy_score(y_test, y_pred_tree_grid))\n",
    "\n",
    "# checking F1\n",
    "print('Test F1 score: ', metrics.f1_score(y_test, y_pred_tree_grid))"
   ]
  },
  {
   "cell_type": "markdown",
   "metadata": {},
   "source": [
    "### RANDOM FOREST GRID"
   ]
  },
  {
   "cell_type": "code",
   "execution_count": 34,
   "metadata": {},
   "outputs": [],
   "source": [
    "param_grid_forest = { \n",
    "    'n_estimators': [75,100,125],\n",
    "    'criterion': ['gini', 'entropy'],\n",
    "    'max_leaf_nodes': [ 18, 19, 21, 23],\n",
    "    'max_depth': [9, 10, 12],\n",
    "    'max_features': ['auto', 'log2']\n",
    "    \n",
    "}\n",
    "\n",
    "grid_search_forest = GridSearchCV(estimator = rfc, param_grid = param_grid_forest,cv = 5,scoring = 'f1')"
   ]
  },
  {
   "cell_type": "code",
   "execution_count": 35,
   "metadata": {},
   "outputs": [
    {
     "name": "stdout",
     "output_type": "stream",
     "text": [
      "{'criterion': 'gini', 'max_depth': 10, 'max_features': 'log2', 'max_leaf_nodes': 23, 'n_estimators': 125}\n"
     ]
    }
   ],
   "source": [
    "grid_search_forest.fit(X_train,y_train)\n",
    "forest_params = grid_search_forest.best_params_\n",
    "print(forest_params)"
   ]
  },
  {
   "cell_type": "code",
   "execution_count": 36,
   "metadata": {},
   "outputs": [
    {
     "name": "stdout",
     "output_type": "stream",
     "text": [
      "Test Accuracy score:  0.7371463340432005\n",
      "Test F1 score:  0.6411960132890365\n"
     ]
    }
   ],
   "source": [
    "forest_grid = RandomForestClassifier(**forest_params, random_state = 333,class_weight = 'balanced')\n",
    "forest_grid.fit(X_train, y_train)\n",
    "y_pred_forest_grid = forest_grid.predict(X_test)\n",
    "\n",
    "# checking accuracy\n",
    "print('Test Accuracy score: ', metrics.accuracy_score(y_test, y_pred_forest_grid))\n",
    "\n",
    "# checking F1\n",
    "print('Test F1 score: ', metrics.f1_score(y_test, y_pred_forest_grid))"
   ]
  },
  {
   "cell_type": "markdown",
   "metadata": {},
   "source": [
    "### ENSEMBLE MODELS"
   ]
  },
  {
   "cell_type": "code",
   "execution_count": null,
   "metadata": {},
   "outputs": [],
   "source": [
    "from sklearn.ensemble import VotingClassifier\n",
    "ensemble_model = VotingClassifier(estimators=[('lr', logreg_grid),('rf', forest_grid),\n",
    "                                              ('dt', tree_grid), ('kn',knn_grid)], voting='hard',n_jobs = -1 )\n",
    "\n",
    "ensemble_model.fit(X_train, y_train)\n",
    "\n",
    "ensemble_preds = ensemble_model.predict(X_test)\n",
    "\n",
    "# checking accuracy\n",
    "print('Test Accuracy score: ', metrics.accuracy_score(y_test, ensemble_preds))\n",
    "\n",
    "# checking F1\n",
    "print('Test F1 score: ', metrics.f1_score(y_test, ensemble_preds))"
   ]
  },
  {
   "cell_type": "code",
   "execution_count": 43,
   "metadata": {},
   "outputs": [
    {
     "name": "stdout",
     "output_type": "stream",
     "text": [
      "Test Accuracy score:  0.7850319440219045\n",
      "Test F1 score:  0.6680447242318895\n"
     ]
    }
   ],
   "source": [
    "ensemble_model2 = VotingClassifier(estimators=[('lr', logreg_grid), ('rf', forest_grid), ('dt', tree_grid), ('kn',knn_grid)],\n",
    "                  voting='soft',weights=[4, 2, 1,3])\n",
    "\n",
    "ensemble_model2.fit(X_train, y_train)\n",
    "\n",
    "ensemble_preds2 = ensemble_model2.predict(X_test)\n",
    "\n",
    "# checking accuracy\n",
    "print('Test Accuracy score: ', metrics.accuracy_score(y_test, ensemble_preds2))\n",
    "\n",
    "# checking F1\n",
    "print('Test F1 score: ', metrics.f1_score(y_test, ensemble_preds2))"
   ]
  },
  {
   "cell_type": "code",
   "execution_count": 44,
   "metadata": {},
   "outputs": [],
   "source": [
    "# Import necessary modules\n",
    "from sklearn.metrics import roc_curve\n",
    "\n",
    "# Compute predicted probabilities: y_pred_prob\n",
    "y_log_g_prob = logreg_grid.predict_proba(X_test)[:,1]\n",
    "y_knn_g_prob = knn_grid.predict_proba(X_test)[:,1]\n",
    "y_tree_g_prob = tree_grid.predict_proba(X_test)[:,1]\n",
    "y_rfc_g_prob = forest_grid.predict_proba(X_test)[:,1]\n",
    "y_ens_prob = ensemble_model2.predict_proba(X_test)[:,1]\n",
    "\n",
    "# Generate ROC curve values: fpr, tpr, thresholds\n",
    "fpr_log_g, tpr_log_g, thresholds_log_g = roc_curve(y_test, y_log_g_prob)\n",
    "fpr_knn_g, tpr_knn_g, thresholds_knn_g = roc_curve(y_test, y_knn_g_prob)\n",
    "fpr_tree_g, tpr_tree_g, thresholds_tree_g = roc_curve(y_test, y_tree_g_prob)\n",
    "fpr_rfc_g, tpr_rfc_g, thresholds_rfc_g = roc_curve(y_test, y_rfc_g_prob)\n",
    "fpr_ens, tpr_ens, thresholds_ens = roc_curve(y_test, y_ens_prob)"
   ]
  },
  {
   "cell_type": "code",
   "execution_count": 45,
   "metadata": {},
   "outputs": [
    {
     "data": {
      "image/png": "[encoded data removed]",
      "text/plain": [
       "<Figure size 432x288 with 1 Axes>"
      ]
     },
     "metadata": {
      "needs_background": "light"
     },
     "output_type": "display_data"
    }
   ],
   "source": [
    "# Plot ROC curve\n",
    "plt.plot([0, 1], [0, 1], 'k--')\n",
    "plt.plot(fpr_log_g, tpr_log_g,label = 'Logistic')\n",
    "plt.plot(fpr_knn_g, tpr_knn_g,label = 'KNN')\n",
    "plt.plot(fpr_tree_g, tpr_tree_g,label = 'Decision Tree')\n",
    "plt.plot(fpr_rfc_g, tpr_rfc_g,label = 'Random Forest')\n",
    "plt.plot(fpr_ens, tpr_ens,label = 'Ensemble')\n",
    "plt.xlabel('False Positive Rate')\n",
    "plt.ylabel('True Positive Rate')\n",
    "plt.legend()\n",
    "plt.title('ROC Curve with GridSearch')\n",
    "plt.show()"
   ]
  },
  {
   "cell_type": "code",
   "execution_count": 46,
   "metadata": {},
   "outputs": [
    {
     "name": "stdout",
     "output_type": "stream",
     "text": [
      "AUC Logistic: 0.8493217093299944\n",
      "AUC KNN: 0.8265831329816611\n",
      "AUC Decision Tree: 0.8169595589799167\n",
      "AUC Random Forest: 0.8315664897750192\n",
      "AUC Ensemble: 0.8531796745399629\n"
     ]
    }
   ],
   "source": [
    "# Compute and print AUC score\n",
    "print(\"AUC Logistic: {}\".format(roc_auc_score(y_test, y_log_g_prob)))\n",
    "print(\"AUC KNN: {}\".format(roc_auc_score(y_test, y_knn_g_prob)))\n",
    "print(\"AUC Decision Tree: {}\".format(roc_auc_score(y_test, y_tree_g_prob)))\n",
    "print(\"AUC Random Forest: {}\".format(roc_auc_score(y_test, y_rfc_g_prob)))\n",
    "print(\"AUC Ensemble: {}\".format(roc_auc_score(y_test, y_ens_prob)))"
   ]
  },
  {
   "cell_type": "code",
   "execution_count": 49,
   "metadata": {},
   "outputs": [
    {
     "name": "stdout",
     "output_type": "stream",
     "text": [
      "[[9347 2139]\n",
      " [1394 3555]]\n",
      "              precision    recall  f1-score   support\n",
      "\n",
      "           0       0.87      0.81      0.84     11486\n",
      "           1       0.62      0.72      0.67      4949\n",
      "\n",
      "    accuracy                           0.79     16435\n",
      "   macro avg       0.75      0.77      0.75     16435\n",
      "weighted avg       0.80      0.79      0.79     16435\n",
      "\n"
     ]
    }
   ],
   "source": [
    "print(confusion_matrix(y_test, ensemble_preds2))\n",
    "print(classification_report(y_test, ensemble_preds2))"
   ]
  },
  {
   "cell_type": "code",
   "execution_count": null,
   "metadata": {},
   "outputs": [],
   "source": [
    "abs(base-metrics.accuracy_score(y_test, ensemble_preds2))/base"
   ]
  },
  {
   "cell_type": "code",
   "execution_count": 50,
   "metadata": {},
   "outputs": [],
   "source": [
    "import pickle\n",
    "\n",
    "pickle_out = open(\"scaler.pickle\",\"wb\")\n",
    "pickle.dump(scaler.fit(X_train), pickle_out)\n",
    "pickle_out.close()"
   ]
  },
  {
   "cell_type": "code",
   "execution_count": 52,
   "metadata": {},
   "outputs": [],
   "source": [
    "import pickle\n",
    "\n",
    "\n",
    "pickle_out = open(\"pred.pickle\",\"wb\")\n",
    "pickle.dump(ensemble_model2, pickle_out)\n",
    "pickle_out.close()"
   ]
  },
  {
   "cell_type": "markdown",
   "metadata": {},
   "source": [
    "# Feature Importance"
   ]
  },
  {
   "cell_type": "code",
   "execution_count": null,
   "metadata": {},
   "outputs": [],
   "source": [
    "#LOGREG \n",
    "dictionary = vdict(vzip(list(predictors.columns), list(logreg_grid.coef_[0])))"
   ]
  },
  {
   "cell_type": "code",
   "execution_count": null,
   "metadata": {},
   "outputs": [],
   "source": [
    "dictionary_logreg = {k: v for k, v in sorted(dictionary.items(), key=lambda item: item[1])}"
   ]
  },
  {
   "cell_type": "code",
   "execution_count": null,
   "metadata": {},
   "outputs": [],
   "source": [
    "#DECISION TREE\n",
    "dictionary = dict(zip(list(predictors.columns), list(tree_grid.coef_[0])))\n",
    "dictionary_tree = {k: v for k, v in sorted(dictionary_tree.items(), key=lambda item: item[1], reverse = True)}"
   ]
  },
  {
   "cell_type": "code",
   "execution_count": null,
   "metadata": {},
   "outputs": [],
   "source": [
    "# get importance\n",
    "importance = tree_grid.feature_importances_\n",
    "# summarize feature importance\n",
    "for i,v in enumerate(importance):\n",
    "\tprint('Feature: %0d, Score: %.5f' % (i,v))\n",
    "# plot feature importance\n",
    "pyplot.bar([x for x in range(len(importance))], importance)\n",
    "pyplot.show()"
   ]
  },
  {
   "cell_type": "code",
   "execution_count": null,
   "metadata": {},
   "outputs": [],
   "source": [
    "importance = forest_grid.feature_importances_\n",
    "# summarize feature importance\n",
    "for i,v in enumerate(importance):\n",
    "\tprint('Feature: %0d, Score: %.5f' % (i,v))\n",
    "# plot feature importance\n",
    "pyplot.bar([x for x in range(len(importance))], importance)\n",
    "pyplot.show()"
   ]
  }
 ],
 "metadata": {
  "kernelspec": {
   "display_name": "Python 3",
   "language": "python",
   "name": "python3"
  },
  "language_info": {
   "codemirror_mode": {
    "name": "ipython",
    "version": 3
   },
   "file_extension": ".py",
   "mimetype": "text/x-python",
   "name": "python",
   "nbconvert_exporter": "python",
   "pygments_lexer": "ipython3",
   "version": "3.7.6"
  }
 },
 "nbformat": 4,
 "nbformat_minor": 4
}
